{
 "cells": [
  {
   "cell_type": "code",
   "execution_count": 4,
   "metadata": {},
   "outputs": [
    {
     "name": "stdout",
     "output_type": "stream",
     "text": [
      "[1.0, -5.329070518200751e-15, -2.9999999999999982]\n",
      "enter your test value2\n",
      "enter your test value4\n",
      "-1.0000000000000195\n"
     ]
    }
   ],
   "source": [
    "import numpy as np\n",
    "training_inputs = np.array([[2,1,1],[2,2,1],[4,0,1]])\n",
    "#print(training_inputs)\n",
    "\n",
    "val = [-1,-1,1]\n",
    "#val\n",
    "l=[]\n",
    "for i in range(len(training_inputs)):\n",
    "    l.append([])\n",
    "    for j in range(len(training_inputs)):   \n",
    "        k = training_inputs[i]\n",
    "        #print(training_inputs[i])\n",
    "        m = np.dot(training_inputs[j],k)\n",
    "        l[i].append(m)\n",
    "#print(l)\n",
    "#print(val)\n",
    "\n",
    "z = np.linalg.solve(l,val)\n",
    "#print(z)\n",
    "t=0;\n",
    "sa=[]\n",
    "u=0\n",
    "for x in np.nditer(training_inputs, flags=['external_loop'],order='F'):\n",
    "    #print(u)\n",
    "    for j in x:\n",
    "        \n",
    "        u = (u + (j*z[t]))\n",
    "        #print(j,'   x  ',z[t],'  == ',u)\n",
    "        t=t+1\n",
    "    sa.append(u)\n",
    "    t=0\n",
    "    u=0  \n",
    "print(sa)    \n",
    "x = sa[0]\n",
    "y = sa[1]\n",
    "c = sa[2]\n",
    "\n",
    "X = int(input('enter your test value'))\n",
    "Y = int(input('enter your test value'))\n",
    "\n",
    "y = x*X+y*Y+c\n",
    "\n",
    "print(y)\n",
    "        "
   ]
  },
  {
   "cell_type": "code",
   "execution_count": null,
   "metadata": {},
   "outputs": [],
   "source": []
  },
  {
   "cell_type": "code",
   "execution_count": null,
   "metadata": {},
   "outputs": [],
   "source": []
  },
  {
   "cell_type": "code",
   "execution_count": null,
   "metadata": {},
   "outputs": [],
   "source": [
    "import numpy as np\n",
    "import pandas as pd\n",
    "df = pd.read_csv(\"data.csv\")\n",
    "#df\n",
    "\n",
    "training_inputs = np.array(df[df.columns[0:3]])\n",
    "training_inputs\n",
    "\n",
    "val = (df[df.columns[3]])\n",
    "val\n",
    "\n",
    "l=[]\n",
    "for i in range(len(training_inputs)):\n",
    "    l.append([])\n",
    "    for j in range(len(training_inputs)):   \n",
    "        k = training_inputs[i]\n",
    "        #print(training_inputs[i])\n",
    "        m = np.dot(training_inputs[j],k)\n",
    "        l[i].append(m)\n",
    "#print(l)\n",
    "#print(val)\n",
    "\n",
    "z = np.linalg.solve(l,val)\n",
    "#print(z)\n",
    "t=0;\n",
    "sa=[]\n",
    "u=0\n",
    "for x in np.nditer(training_inputs, flags=['external_loop'],order='F'):\n",
    "    #print(u)\n",
    "    for j in x:\n",
    "        \n",
    "        u = (u + (j*z[t]))\n",
    "        #print(j,'   x  ',z[t],'  == ',u)\n",
    "        t=t+1\n",
    "    sa.append(u)\n",
    "    t=0\n",
    "    u=0\n"
   ]
  }
 ],
 "metadata": {
  "kernelspec": {
   "display_name": "Python 3",
   "language": "python",
   "name": "python3"
  },
  "language_info": {
   "codemirror_mode": {
    "name": "ipython",
    "version": 3
   },
   "file_extension": ".py",
   "mimetype": "text/x-python",
   "name": "python",
   "nbconvert_exporter": "python",
   "pygments_lexer": "ipython3",
   "version": "3.7.1"
  }
 },
 "nbformat": 4,
 "nbformat_minor": 2
}
