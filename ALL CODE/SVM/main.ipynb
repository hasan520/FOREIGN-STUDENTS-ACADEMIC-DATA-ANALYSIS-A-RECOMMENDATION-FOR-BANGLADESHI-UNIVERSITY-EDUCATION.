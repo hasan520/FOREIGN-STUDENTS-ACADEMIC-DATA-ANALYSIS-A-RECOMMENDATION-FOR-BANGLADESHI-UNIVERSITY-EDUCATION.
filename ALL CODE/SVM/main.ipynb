{
 "cells": [
  {
   "cell_type": "code",
   "execution_count": 1,
   "metadata": {},
   "outputs": [],
   "source": [
    "import numpy as np\n",
    "import pandas as pd\n",
    "df = pd.read_csv(\"data.csv\")\n",
    "df\n",
    "\n",
    "\n",
    "training_inputs = np.array([[2,1,1],[2,2,1],[4,0,1]])\n",
    "#print(training_inputs)\n",
    "\n",
    "val = [-1,-1,1]\n",
    "#val\n",
    "l=[]\n",
    "for i in range(len(training_inputs)):\n",
    "    l.append([])\n",
    "    for j in range(len(training_inputs)):   \n",
    "        k = training_inputs[i]\n",
    "        #print(training_inputs[i])\n",
    "        m = np.dot(training_inputs[j],k)\n",
    "        l[i].append(m)\n",
    "#print(l)\n",
    "#print(val)\n",
    "\n",
    "z = np.linalg.solve(l,val)\n",
    "#print(z)\n",
    "t=0;\n",
    "sa=[]\n",
    "u=0\n",
    "for x in np.nditer(training_inputs, flags=['external_loop'],order='F'):\n",
    "    #print(u)\n",
    "    for j in x:\n",
    "        \n",
    "        u = (u + (j*z[t]))\n",
    "        #print(j,'   x  ',z[t],'  == ',u)\n",
    "        t=t+1\n",
    "    sa.append(u)\n",
    "    t=0\n",
    "    u=0\n",
    "\n",
    "    \n",
    "    \n",
    "    \n",
    "    \n",
    "    \n",
    "    \n",
    "    \n",
    "x = sa[0]\n",
    "y = sa[1]\n",
    "c = sa[2]\n",
    "\n",
    "#X = int(input('enter your test value'))\n",
    "#Y = int(input('enter your test value'))\n",
    "\n",
    "#y = x*X+y*Y+c\n",
    "\n",
    "#print(y)\n",
    "        "
   ]
  },
  {
   "cell_type": "code",
   "execution_count": null,
   "metadata": {},
   "outputs": [],
   "source": [
    "6\n"
   ]
  }
 ],
 "metadata": {
  "kernelspec": {
   "display_name": "Python 3",
   "language": "python",
   "name": "python3"
  },
  "language_info": {
   "codemirror_mode": {
    "name": "ipython",
    "version": 3
   },
   "file_extension": ".py",
   "mimetype": "text/x-python",
   "name": "python",
   "nbconvert_exporter": "python",
   "pygments_lexer": "ipython3",
   "version": "3.7.1"
  }
 },
 "nbformat": 4,
 "nbformat_minor": 2
}
