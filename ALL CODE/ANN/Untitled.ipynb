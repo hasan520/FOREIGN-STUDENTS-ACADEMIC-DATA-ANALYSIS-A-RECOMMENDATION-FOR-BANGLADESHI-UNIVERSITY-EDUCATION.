{
 "cells": [
  {
   "cell_type": "code",
   "execution_count": 1,
   "metadata": {},
   "outputs": [],
   "source": [
    "import pandas as pd\n",
    "import numpy as np \n",
    "import matplotlib.pyplot as plt\n",
    "%matplotlib inline\n",
    "import seaborn as sns\n",
    "import tensorflow as tf"
   ]
  },
  {
   "cell_type": "code",
   "execution_count": null,
   "metadata": {},
   "outputs": [],
   "source": []
  },
  {
   "cell_type": "code",
   "execution_count": 2,
   "metadata": {},
   "outputs": [
    {
     "ename": "NameError",
     "evalue": "name 'x_test' is not defined",
     "output_type": "error",
     "traceback": [
      "\u001b[1;31m---------------------------------------------------------------------------\u001b[0m",
      "\u001b[1;31mNameError\u001b[0m                                 Traceback (most recent call last)",
      "\u001b[1;32m<ipython-input-2-2797ec24fa1e>\u001b[0m in \u001b[0;36m<module>\u001b[1;34m\u001b[0m\n\u001b[0;32m      1\u001b[0m \u001b[0mcolumns\u001b[0m \u001b[1;33m=\u001b[0m \u001b[1;33m[\u001b[0m\u001b[1;34m'visa'\u001b[0m\u001b[1;33m,\u001b[0m\u001b[1;34m'visa extension'\u001b[0m\u001b[1;33m,\u001b[0m\u001b[1;34m'send money'\u001b[0m\u001b[1;33m,\u001b[0m\u001b[1;34m'safe'\u001b[0m\u001b[1;33m,\u001b[0m\u001b[1;34m'insurance'\u001b[0m\u001b[1;33m,\u001b[0m\u001b[1;34m'accommodation'\u001b[0m\u001b[1;33m,\u001b[0m\u001b[1;34m'classmates'\u001b[0m \u001b[1;33m,\u001b[0m\u001b[1;34m'teachers'\u001b[0m\u001b[1;33m,\u001b[0m\u001b[1;34m'genaral people'\u001b[0m\u001b[1;33m,\u001b[0m\u001b[1;34m'police'\u001b[0m \u001b[1;33m,\u001b[0m\u001b[1;34m'tax'\u001b[0m\u001b[1;33m,\u001b[0m\u001b[1;34m'ATM'\u001b[0m\u001b[1;33m,\u001b[0m\u001b[1;34m'racial decimation'\u001b[0m\u001b[1;33m,\u001b[0m\u001b[1;34m'food'\u001b[0m\u001b[1;33m,\u001b[0m\u001b[1;34m'changing climate'\u001b[0m\u001b[1;33m,\u001b[0m\u001b[1;34m'political problem'\u001b[0m\u001b[1;33m,\u001b[0m\u001b[1;34m'corruption'\u001b[0m\u001b[1;33m,\u001b[0m\u001b[1;34m'education curriculum'\u001b[0m\u001b[1;33m,\u001b[0m\u001b[1;34m'health service'\u001b[0m \u001b[1;33m,\u001b[0m\u001b[1;34m'festivals'\u001b[0m\u001b[1;33m,\u001b[0m\u001b[1;34m'first meeting'\u001b[0m\u001b[1;33m,\u001b[0m\u001b[1;34m'vehicle'\u001b[0m\u001b[1;33m,\u001b[0m\u001b[1;34m'celebrating the own religion'\u001b[0m\u001b[1;33m,\u001b[0m\u001b[1;34m'sexual harassment'\u001b[0m\u001b[1;33m,\u001b[0m\u001b[1;34m'transport system'\u001b[0m\u001b[1;33m]\u001b[0m\u001b[1;33m\u001b[0m\u001b[1;33m\u001b[0m\u001b[0m\n\u001b[1;32m----> 2\u001b[1;33m \u001b[0mfinal_data\u001b[0m \u001b[1;33m=\u001b[0m \u001b[0mpd\u001b[0m\u001b[1;33m.\u001b[0m\u001b[0mDataFrame\u001b[0m\u001b[1;33m(\u001b[0m\u001b[0mx_test\u001b[0m\u001b[1;33m,\u001b[0m\u001b[0mcolumns\u001b[0m \u001b[1;33m=\u001b[0m \u001b[0mcolumns\u001b[0m\u001b[1;33m)\u001b[0m\u001b[1;33m\u001b[0m\u001b[1;33m\u001b[0m\u001b[0m\n\u001b[0m",
      "\u001b[1;31mNameError\u001b[0m: name 'x_test' is not defined"
     ]
    }
   ],
   "source": [
    "columns = ['visa','visa extension','send money','safe','insurance','accommodation','classmates' ,'teachers','genaral people','police' ,'tax','ATM','racial decimation','food','changing climate','political problem','corruption','education curriculum','health service' ,'festivals','first meeting','vehicle','celebrating the own religion','sexual harassment','transport system']\n",
    "final_data = pd.DataFrame(x_test,columns = columns)"
   ]
  },
  {
   "cell_type": "code",
   "execution_count": null,
   "metadata": {},
   "outputs": [],
   "source": []
  }
 ],
 "metadata": {
  "kernelspec": {
   "display_name": "Python 3",
   "language": "python",
   "name": "python3"
  },
  "language_info": {
   "codemirror_mode": {
    "name": "ipython",
    "version": 3
   },
   "file_extension": ".py",
   "mimetype": "text/x-python",
   "name": "python",
   "nbconvert_exporter": "python",
   "pygments_lexer": "ipython3",
   "version": "3.8.3"
  }
 },
 "nbformat": 4,
 "nbformat_minor": 4
}
