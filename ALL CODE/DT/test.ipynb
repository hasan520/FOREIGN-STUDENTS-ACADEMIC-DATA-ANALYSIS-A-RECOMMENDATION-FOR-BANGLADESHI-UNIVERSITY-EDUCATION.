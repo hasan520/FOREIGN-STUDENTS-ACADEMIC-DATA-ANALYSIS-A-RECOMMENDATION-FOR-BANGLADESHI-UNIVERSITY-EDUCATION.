{
 "cells": [
  {
   "cell_type": "code",
   "execution_count": 32,
   "metadata": {},
   "outputs": [],
   "source": [
    "import numpy as np \n",
    "import pandas as pd\n",
    "from sklearn.tree import DecisionTreeClassifier # Import Decision Tree Classifier\n",
    "from sklearn.model_selection import train_test_split # Import train_test_split function\n",
    "from sklearn import metrics #Import scikit-learn metrics module for accuracy calculation\n"
   ]
  },
  {
   "cell_type": "code",
   "execution_count": 33,
   "metadata": {},
   "outputs": [],
   "source": [
    "import pandas as pd\n",
    "dataset = pd.read_csv(\"student_data.csv\")\n",
    "#df"
   ]
  },
  {
   "cell_type": "code",
   "execution_count": 34,
   "metadata": {},
   "outputs": [],
   "source": [
    "# Solit features and respose \n",
    "X = np.array(dataset.iloc[:,0:25])\n",
    "Y = np.array(dataset.iloc[:,25:26])"
   ]
  },
  {
   "cell_type": "code",
   "execution_count": 35,
   "metadata": {},
   "outputs": [
    {
     "name": "stdout",
     "output_type": "stream",
     "text": [
      "[[1 1 0 ... 1 0 0]\n",
      " [1 0 1 ... 1 1 0]\n",
      " [1 0 1 ... 0 1 0]\n",
      " ...\n",
      " [1 0 1 ... 1 1 1]\n",
      " [1 1 0 ... 0 1 0]\n",
      " [1 1 0 ... 1 0 1]]\n"
     ]
    }
   ],
   "source": [
    "print(X)"
   ]
  },
  {
   "cell_type": "code",
   "execution_count": 36,
   "metadata": {},
   "outputs": [
    {
     "name": "stdout",
     "output_type": "stream",
     "text": [
      "(398, 1)\n"
     ]
    }
   ],
   "source": [
    "print(Y.shape)"
   ]
  },
  {
   "cell_type": "code",
   "execution_count": 37,
   "metadata": {},
   "outputs": [],
   "source": [
    "from sklearn.model_selection import KFold\n",
    "n_split = 4 \n",
    "for train_index,test_index in KFold(n_split).split(X):\n",
    "    x_train,x_test = X[train_index],X[test_index]\n",
    "    y_train,y_test = Y[train_index],Y[test_index]\n",
    "   "
   ]
  },
  {
   "cell_type": "code",
   "execution_count": 43,
   "metadata": {},
   "outputs": [
    {
     "name": "stdout",
     "output_type": "stream",
     "text": [
      "Accuracy: 1.0\n"
     ]
    }
   ],
   "source": [
    "# Create Decision Tree classifer object\n",
    "clf = DecisionTreeClassifier()\n",
    "\n",
    "# Train Decision Tree Classifer\n",
    "clf = clf.fit(x_train,y_train)\n",
    "\n",
    "#Predict the response for test dataset\n",
    "y_pred = clf.predict(x_test)\n",
    "print(\"Accuracy:\",metrics.accuracy_score(y_test, y_pred))\n"
   ]
  },
  {
   "cell_type": "code",
   "execution_count": 44,
   "metadata": {},
   "outputs": [
    {
     "data": {
      "text/plain": [
       "0.8393164767991108"
      ]
     },
     "execution_count": 44,
     "metadata": {},
     "output_type": "execute_result"
    }
   ],
   "source": [
    "from sklearn.model_selection import cross_val_score\n",
    "scores = cross_val_score(clf, x_train, y_train, cv=5)\n",
    "scores_mean = scores.mean();\n",
    "scores_mean"
   ]
  },
  {
   "cell_type": "code",
   "execution_count": 40,
   "metadata": {},
   "outputs": [],
   "source": [
    "res = y_pred\n",
    "for i in range(len(y_pred)):\n",
    "    if(y_pred[i] > 0.5):\n",
    "        res[i] = 1\n",
    "    else:\n",
    "        res[i] = 0 "
   ]
  },
  {
   "cell_type": "code",
   "execution_count": 41,
   "metadata": {},
   "outputs": [
    {
     "name": "stdout",
     "output_type": "stream",
     "text": [
      "True Positive: 63\tFalse Positive: 0\tTrue Negative: 36\tFalse Negative: 0\n"
     ]
    }
   ],
   "source": [
    "TP = 0 \n",
    "FP = 0\n",
    "FN = 0 \n",
    "TN = 0\n",
    "for j in range(len(y_test)):\n",
    "    if(y_test[j] == 1 and res[j] == 1):\n",
    "        TP = TP + 1\n",
    "    elif(y_test[j] == 1 and res[j] == 0):\n",
    "        FP = FP + 1\n",
    "    elif(y_test[j] == 0 and res[j] == 0 ):\n",
    "        TN = TN + 1\n",
    "    elif(y_test[j] == 0 and res[j] == 1):\n",
    "        FN = FN + 1\n",
    "        \n",
    "print(f\"True Positive: {TP}\\tFalse Positive: {FP}\\tTrue Negative: {TN}\\tFalse Negative: {FN}\")"
   ]
  },
  {
   "cell_type": "code",
   "execution_count": 42,
   "metadata": {},
   "outputs": [
    {
     "data": {
      "text/plain": [
       "1.0"
      ]
     },
     "execution_count": 42,
     "metadata": {},
     "output_type": "execute_result"
    }
   ],
   "source": [
    "Acc = (TP+TN)/(TP+FP+TN+FN)\n",
    "Acc"
   ]
  },
  {
   "cell_type": "code",
   "execution_count": null,
   "metadata": {},
   "outputs": [],
   "source": []
  }
 ],
 "metadata": {
  "kernelspec": {
   "display_name": "Python 3",
   "language": "python",
   "name": "python3"
  },
  "language_info": {
   "codemirror_mode": {
    "name": "ipython",
    "version": 3
   },
   "file_extension": ".py",
   "mimetype": "text/x-python",
   "name": "python",
   "nbconvert_exporter": "python",
   "pygments_lexer": "ipython3",
   "version": "3.7.1"
  }
 },
 "nbformat": 4,
 "nbformat_minor": 2
}
